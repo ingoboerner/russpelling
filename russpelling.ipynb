{
 "cells": [
  {
   "cell_type": "markdown",
   "metadata": {},
   "source": [
    "# Normalization"
   ]
  },
  {
   "cell_type": "markdown",
   "metadata": {},
   "source": [
    "## Rules implemented:\n",
    "* Іі Ѣѣ Ѳѳ Ѵѵ --> Ии Ее Фф Ии\n",
    "* jeja\n",
    "* Final tverdyj znak\n",
    "* prefixes before z\n",
    "* ago, jago\n",
    "* e oborotnoe before i\n",
    "* o after palatals\n",
    "* yja, ija\n",
    "\n",
    "## issues\n",
    "* not checking for stacked prefixes, assume prefix is at beginning of the word\n",
    "* not all adjectives are in adj-with-ija.txt, which is used by ija() to recognize adjectives with old fNApl ending\n",
    "* какія produces an error: > TypeError: string indices must be integers "
   ]
  },
  {
   "cell_type": "code",
   "execution_count": 17,
   "metadata": {
    "collapsed": false
   },
   "outputs": [
    {
     "ename": "TypeError",
     "evalue": "string indices must be integers",
     "output_type": "error",
     "traceback": [
      "\u001b[0;31m---------------------------------------------------------------------------\u001b[0m",
      "\u001b[0;31mTypeError\u001b[0m                                 Traceback (most recent call last)",
      "\u001b[0;32m<ipython-input-17-3f5d02b5e2f9>\u001b[0m in \u001b[0;36m<module>\u001b[0;34m()\u001b[0m\n\u001b[1;32m     90\u001b[0m \u001b[0;34m\u001b[0m\u001b[0m\n\u001b[1;32m     91\u001b[0m \u001b[0minputstring\u001b[0m \u001b[0;34m=\u001b[0m \u001b[0;34m\"какія irgendwasія чортъ, всеблаго: ІЭ краснаго КРАСНАГО красняго КРАСНЯГО  ІіѢѣѲѳѴѵ ея Ея бея цвѣтовъ безполезный, съ отраженіями звѣздъ въ спящей водѣ рѣки возсоденинение.\"\u001b[0m\u001b[0;34m\u001b[0m\u001b[0m\n\u001b[0;32m---> 92\u001b[0;31m \u001b[0;34m[\u001b[0m\u001b[0mcreate_token\u001b[0m\u001b[0;34m(\u001b[0m\u001b[0mtoken\u001b[0m\u001b[0;34m)\u001b[0m \u001b[0;32mfor\u001b[0m \u001b[0mtoken\u001b[0m \u001b[0;32min\u001b[0m \u001b[0mre\u001b[0m\u001b[0;34m.\u001b[0m\u001b[0mfindall\u001b[0m\u001b[0;34m(\u001b[0m\u001b[0;34m'\\w+\\s*|\\W+'\u001b[0m\u001b[0;34m,\u001b[0m\u001b[0minputstring\u001b[0m\u001b[0;34m)\u001b[0m\u001b[0;34m]\u001b[0m\u001b[0;34m\u001b[0m\u001b[0m\n\u001b[0m",
      "\u001b[0;32m<ipython-input-17-3f5d02b5e2f9>\u001b[0m in \u001b[0;36m<listcomp>\u001b[0;34m(.0)\u001b[0m\n\u001b[1;32m     90\u001b[0m \u001b[0;34m\u001b[0m\u001b[0m\n\u001b[1;32m     91\u001b[0m \u001b[0minputstring\u001b[0m \u001b[0;34m=\u001b[0m \u001b[0;34m\"какія irgendwasія чортъ, всеблаго: ІЭ краснаго КРАСНАГО красняго КРАСНЯГО  ІіѢѣѲѳѴѵ ея Ея бея цвѣтовъ безполезный, съ отраженіями звѣздъ въ спящей водѣ рѣки возсоденинение.\"\u001b[0m\u001b[0;34m\u001b[0m\u001b[0m\n\u001b[0;32m---> 92\u001b[0;31m \u001b[0;34m[\u001b[0m\u001b[0mcreate_token\u001b[0m\u001b[0;34m(\u001b[0m\u001b[0mtoken\u001b[0m\u001b[0;34m)\u001b[0m \u001b[0;32mfor\u001b[0m \u001b[0mtoken\u001b[0m \u001b[0;32min\u001b[0m \u001b[0mre\u001b[0m\u001b[0;34m.\u001b[0m\u001b[0mfindall\u001b[0m\u001b[0;34m(\u001b[0m\u001b[0;34m'\\w+\\s*|\\W+'\u001b[0m\u001b[0;34m,\u001b[0m\u001b[0minputstring\u001b[0m\u001b[0;34m)\u001b[0m\u001b[0;34m]\u001b[0m\u001b[0;34m\u001b[0m\u001b[0m\n\u001b[0m",
      "\u001b[0;32m<ipython-input-17-3f5d02b5e2f9>\u001b[0m in \u001b[0;36mcreate_token\u001b[0;34m(inputtext)\u001b[0m\n\u001b[1;32m     86\u001b[0m \u001b[0;34m\u001b[0m\u001b[0m\n\u001b[1;32m     87\u001b[0m \u001b[0;32mdef\u001b[0m \u001b[0mcreate_token\u001b[0m\u001b[0;34m(\u001b[0m\u001b[0minputtext\u001b[0m\u001b[0;34m)\u001b[0m\u001b[0;34m:\u001b[0m\u001b[0;34m\u001b[0m\u001b[0m\n\u001b[0;32m---> 88\u001b[0;31m     \u001b[0;32mreturn\u001b[0m \u001b[0;34m{\u001b[0m\u001b[0;34m't'\u001b[0m\u001b[0;34m:\u001b[0m\u001b[0minputtext\u001b[0m\u001b[0;34m,\u001b[0m \u001b[0;34m'n'\u001b[0m\u001b[0;34m:\u001b[0m\u001b[0mnormalize\u001b[0m\u001b[0;34m(\u001b[0m\u001b[0minputtext\u001b[0m\u001b[0;34m)\u001b[0m\u001b[0;34m}\u001b[0m\u001b[0;34m\u001b[0m\u001b[0m\n\u001b[0m\u001b[1;32m     89\u001b[0m \u001b[0;34m\u001b[0m\u001b[0m\n\u001b[1;32m     90\u001b[0m \u001b[0;34m\u001b[0m\u001b[0m\n",
      "\u001b[0;32m<ipython-input-17-3f5d02b5e2f9>\u001b[0m in \u001b[0;36mnormalize\u001b[0;34m(inputtext)\u001b[0m\n\u001b[1;32m     82\u001b[0m \u001b[0;34m\u001b[0m\u001b[0m\n\u001b[1;32m     83\u001b[0m \u001b[0;32mdef\u001b[0m \u001b[0mnormalize\u001b[0m\u001b[0;34m(\u001b[0m\u001b[0minputtext\u001b[0m\u001b[0;34m)\u001b[0m\u001b[0;34m:\u001b[0m\u001b[0;34m\u001b[0m\u001b[0m\n\u001b[0;32m---> 84\u001b[0;31m     \u001b[0;32mreturn\u001b[0m \u001b[0mija\u001b[0m\u001b[0;34m(\u001b[0m\u001b[0mo_after_pal\u001b[0m\u001b[0;34m(\u001b[0m\u001b[0mago\u001b[0m\u001b[0;34m(\u001b[0m\u001b[0mprefixZ\u001b[0m\u001b[0;34m(\u001b[0m\u001b[0mtverdyj\u001b[0m\u001b[0;34m(\u001b[0m\u001b[0meja\u001b[0m\u001b[0;34m(\u001b[0m\u001b[0mreplace_letters\u001b[0m\u001b[0;34m(\u001b[0m\u001b[0mre\u001b[0m\u001b[0;34m.\u001b[0m\u001b[0msub\u001b[0m\u001b[0;34m(\u001b[0m\u001b[0;34m\"\\s+$\"\u001b[0m\u001b[0;34m,\u001b[0m\u001b[0;34m\"\"\u001b[0m\u001b[0;34m,\u001b[0m \u001b[0mei\u001b[0m\u001b[0;34m(\u001b[0m\u001b[0minputtext\u001b[0m\u001b[0;34m)\u001b[0m\u001b[0;34m)\u001b[0m\u001b[0;34m)\u001b[0m\u001b[0;34m)\u001b[0m\u001b[0;34m)\u001b[0m\u001b[0;34m)\u001b[0m\u001b[0;34m)\u001b[0m\u001b[0;34m)\u001b[0m\u001b[0;34m)\u001b[0m\u001b[0;34m\u001b[0m\u001b[0m\n\u001b[0m\u001b[1;32m     85\u001b[0m \u001b[0;34m\u001b[0m\u001b[0m\n\u001b[1;32m     86\u001b[0m \u001b[0;34m\u001b[0m\u001b[0m\n",
      "\u001b[0;32m<ipython-input-17-3f5d02b5e2f9>\u001b[0m in \u001b[0;36mija\u001b[0;34m(inputtext)\u001b[0m\n\u001b[1;32m     70\u001b[0m             \u001b[0madjectives\u001b[0m \u001b[0;34m=\u001b[0m \u001b[0mset\u001b[0m\u001b[0;34m(\u001b[0m\u001b[0mword\u001b[0m \u001b[0;32mfor\u001b[0m \u001b[0mword\u001b[0m \u001b[0;32min\u001b[0m \u001b[0mf\u001b[0m\u001b[0;34m.\u001b[0m\u001b[0mread\u001b[0m\u001b[0;34m(\u001b[0m\u001b[0;34m)\u001b[0m\u001b[0;34m.\u001b[0m\u001b[0msplit\u001b[0m\u001b[0;34m(\u001b[0m\u001b[0;34m'\\n'\u001b[0m\u001b[0;34m)\u001b[0m\u001b[0;34m)\u001b[0m\u001b[0;34m\u001b[0m\u001b[0m\n\u001b[1;32m     71\u001b[0m             \u001b[0;32mif\u001b[0m \u001b[0minputtext\u001b[0m\u001b[0;34m[\u001b[0m\u001b[0;36m0\u001b[0m\u001b[0;34m:\u001b[0m\u001b[0;34m-\u001b[0m\u001b[0;36m2\u001b[0m\u001b[0;34m]\u001b[0m\u001b[0;34m.\u001b[0m\u001b[0mlower\u001b[0m\u001b[0;34m(\u001b[0m\u001b[0;34m)\u001b[0m \u001b[0;32min\u001b[0m \u001b[0madjectives\u001b[0m\u001b[0;34m:\u001b[0m\u001b[0;34m\u001b[0m\u001b[0m\n\u001b[0;32m---> 72\u001b[0;31m                 \u001b[0;32mif\u001b[0m \u001b[0minputtext\u001b[0m\u001b[0;34m[\u001b[0m\u001b[0;34m-\u001b[0m\u001b[0;36m2\u001b[0m\u001b[0;34m,\u001b[0m \u001b[0;34m-\u001b[0m\u001b[0;36m1\u001b[0m\u001b[0;34m]\u001b[0m \u001b[0;34m==\u001b[0m \u001b[0;34m'и'\u001b[0m\u001b[0;34m:\u001b[0m\u001b[0;34m\u001b[0m\u001b[0m\n\u001b[0m\u001b[1;32m     73\u001b[0m                     \u001b[0;32mreturn\u001b[0m \u001b[0minputtext\u001b[0m\u001b[0;34m[\u001b[0m\u001b[0;36m0\u001b[0m\u001b[0;34m:\u001b[0m\u001b[0;34m-\u001b[0m\u001b[0;36m2\u001b[0m\u001b[0;34m]\u001b[0m \u001b[0;34m+\u001b[0m \u001b[0;34m'ие'\u001b[0m\u001b[0;34m\u001b[0m\u001b[0m\n\u001b[1;32m     74\u001b[0m                 \u001b[0;32melse\u001b[0m\u001b[0;34m:\u001b[0m\u001b[0;34m\u001b[0m\u001b[0m\n",
      "\u001b[0;31mTypeError\u001b[0m: string indices must be integers"
     ]
    }
   ],
   "source": [
    "import re\n",
    "\n",
    "def replace_letters(inputtext):\n",
    "    # Replace Іі Ѣѣ Ѳѳ Ѵѵ\n",
    "    oldstring = \"ІіѢѣѲѳѴѵ\"\n",
    "    newstring = \"ИиЕеФфИи\"\n",
    "    translationtable = str.maketrans(oldstring, newstring)\n",
    "    return inputtext.translate(translationtable)\n",
    "\n",
    "    \n",
    "def eja(inputtext):    \n",
    "    # jeja|ея|ЕЯ\n",
    "    eja = re.sub(r'\\bЕЯ\\b', 'ЕЕ', re.sub(r'\\bея\\b', 'ее', re.sub(r'\\bЕя\\b', 'Ее' ,inputtext)))\n",
    "    return eja\n",
    "    \n",
    "    \n",
    "def tverdyj(inputtext):\n",
    "    # Final tverdyj znak\n",
    "    tverdyj = re.sub(r'\\B[ъЪ]\\b', '', inputtext)\n",
    "    return tverdyj\n",
    "    \n",
    "\n",
    "def prefixZ(inputtext):\n",
    "    # prefixes before z\n",
    "    prefixZ = re.sub(r'\\b(БЕ|В|ВО|И|НИ|РА|РО|ЧЕРЕ|ЧРЕ)З([ПФТСКЦШЩЧ])', r'\\1с\\2', \\\n",
    "                            re.sub(r'\\b(Бе|В|Во|И|Ни|Ра|Ро|Чере|Чре)з([пфтскцшщч])', r'\\1с\\2' ,\\\n",
    "                            re.sub(r'\\b(бе|в|во|и|ни|ра|ро|чере|чре)з([пфтскцшщч])', r'\\1с\\2', inputtext)))\n",
    "    return prefixZ\n",
    "    \n",
    "def ago(inputtext):\n",
    "    exceptions = ('благо', 'всеблаго', 'наго', 'полунаго', 'преблаго')\n",
    "    if re.search(r'[яа]го\\b', inputtext, re.IGNORECASE) and inputtext not in exceptions:\n",
    "        if re.search(r'аго\\b', inputtext):\n",
    "            return re.sub(r'аго\\b', 'ого', inputtext)\n",
    "        elif re.search(r'яго\\b', inputtext):\n",
    "            return re.sub(r'яго\\b', 'его', inputtext)\n",
    "        elif re.search(r'АГО\\b', inputtext):\n",
    "            return re.sub(r'АГО\\b', 'ОГО', inputtext)\n",
    "        else: \n",
    "            return re.sub(r'ЯГО\\b', 'ЕГО', inputtext)\n",
    "    else:\n",
    "        return inputtext\n",
    "        \n",
    "        \n",
    "def ei(inputtext):\n",
    "    if re.search('іэ', inputtext, re.IGNORECASE):\n",
    "        if re.search('іэ', inputtext):\n",
    "            return re.sub('іэ', 'ие', inputtext)\n",
    "        else:\n",
    "            return re.sub('ІЭ', 'ИЕ', inputtext) \n",
    "    else:\n",
    "        return inputtext    \n",
    "        \n",
    "\n",
    "def o_after_pal(inputtext):\n",
    "    if re.search(r'[чжшщ]о', inputtext, re.IGNORECASE):\n",
    "        if re.search(r'[чжшщ]о', inputtext):\n",
    "            return re.sub(r'([чжшщ])о',r'\\1е', inputtext)\n",
    "        else:\n",
    "            return re.sub(r'([ЧЖШЩ])О',r'\\1Е', inputtext)\n",
    "    return inputtext\n",
    "\n",
    "        \n",
    "def ija(inputtext):\n",
    "    if re.search('ыя$', inputtext, re.IGNORECASE):\n",
    "        if re.search('ыя$', inputtext):\n",
    "            return re.sub('ыя$', 'ые', inputtext)\n",
    "        else:\n",
    "            return re.sub('ЫЯ', 'ЫЕ', inputtext)\n",
    "    elif re.search('ия$', inputtext, re.IGNORECASE):\n",
    "        with open('adj-with-ija.txt','r') as f:\n",
    "            adjectives = set(word for word in f.read().split('\\n'))\n",
    "            if inputtext[0:-2].lower() in adjectives:\n",
    "                if inputtext[-2, -1] == 'и':\n",
    "                    return inputtext[0:-2] + 'ие'\n",
    "                else:\n",
    "                    return inputtext[0:-2] + 'ИЕ'\n",
    "            else:\n",
    "                return inputtext\n",
    "    else:\n",
    "        return inputtext\n",
    "        \n",
    "\n",
    "\n",
    "def normalize(inputtext):\n",
    "    return ija(o_after_pal(ago(prefixZ(tverdyj(eja(replace_letters(re.sub(\"\\s+$\",\"\", ei(inputtext)))))))))\n",
    "    \n",
    "    \n",
    "def create_token(inputtext):\n",
    "    return {'t':inputtext, 'n':normalize(inputtext)}\n",
    "\n",
    "\n",
    "inputstring = \"irgendwasія чортъ, всеблаго: ІЭ краснаго КРАСНАГО красняго КРАСНЯГО  ІіѢѣѲѳѴѵ ея Ея бея цвѣтовъ безполезный, съ отраженіями звѣздъ въ спящей водѣ рѣки возсоденинение.\"\n",
    "[create_token(token) for token in re.findall('\\w+\\s*|\\W+',inputstring)]"
   ]
  },
  {
   "cell_type": "markdown",
   "metadata": {},
   "source": [
    "### Resources:\n",
    "https://ru.wikisource.org/wiki/Раздѣлъ:_Дореформенная_орѳографія\n",
    "\n",
    "Slavic cross-language orthography converter by Danslav Slavenskoj http://slavenic.com "
   ]
  },
  {
   "cell_type": "code",
   "execution_count": null,
   "metadata": {
    "collapsed": true
   },
   "outputs": [],
   "source": []
  }
 ],
 "metadata": {
  "anaconda-cloud": {},
  "kernelspec": {
   "display_name": "Python [conda root]",
   "language": "python",
   "name": "conda-root-py"
  },
  "language_info": {
   "codemirror_mode": {
    "name": "ipython",
    "version": 3
   },
   "file_extension": ".py",
   "mimetype": "text/x-python",
   "name": "python",
   "nbconvert_exporter": "python",
   "pygments_lexer": "ipython3",
   "version": "3.5.2"
  }
 },
 "nbformat": 4,
 "nbformat_minor": 1
}

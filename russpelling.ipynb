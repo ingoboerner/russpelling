{
 "cells": [
  {
   "cell_type": "markdown",
   "metadata": {},
   "source": [
    "# Normalization"
   ]
  },
  {
   "cell_type": "markdown",
   "metadata": {},
   "source": [
    "## Rules implemented:\n",
    "* Іі Ѣѣ Ѳѳ Ѵѵ --> Ии Ее Фф Ии\n",
    "* jeja\n",
    "* Final tverdyj znak\n",
    "* prefixes before z\n",
    "\n",
    "## todo\n",
    "\n",
    "\n",
    "* ago, jago\n",
    "* yja, ija\n",
    "* o after palatals\n",
    "* e oborotnoe before i\n",
    "\n",
    "## issues\n",
    "* not checking for stacked prefixes, assume prefix is at beginning of the word\n",
    "\n",
    "\n",
    "благой\n",
    "всеблагой\n",
    "нагой\n",
    "полунагой\n",
    "преблагой\n"
   ]
  },
  {
   "cell_type": "code",
   "execution_count": 55,
   "metadata": {
    "collapsed": false
   },
   "outputs": [
    {
     "data": {
      "text/plain": [
       "[{'n': 'всеблаго', 't': 'всеблаго '},\n",
       " {'n': 'красного', 't': 'краснаго '},\n",
       " {'n': 'ИиЕеФфИи', 't': 'ІіѢѣѲѳѴѵ '},\n",
       " {'n': 'ее', 't': 'ея '},\n",
       " {'n': 'Ее', 't': 'Ея '},\n",
       " {'n': 'бея', 't': 'бея '},\n",
       " {'n': 'цветов', 't': 'цвѣтовъ '},\n",
       " {'n': 'бесполезный', 't': 'безполезный'},\n",
       " {'n': ',', 't': ', '},\n",
       " {'n': 'с', 't': 'съ '},\n",
       " {'n': 'отражениями', 't': 'отраженіями '},\n",
       " {'n': 'звезд', 't': 'звѣздъ '},\n",
       " {'n': 'в', 't': 'въ '},\n",
       " {'n': 'спящей', 't': 'спящей '},\n",
       " {'n': 'воде', 't': 'водѣ '},\n",
       " {'n': 'реки', 't': 'рѣки '},\n",
       " {'n': 'воссоденинение', 't': 'возсоденинение'},\n",
       " {'n': '.', 't': '.'}]"
      ]
     },
     "execution_count": 55,
     "metadata": {},
     "output_type": "execute_result"
    }
   ],
   "source": [
    "import re\n",
    "\n",
    "def replace_letters(inputtext):\n",
    "    # Replace Іі Ѣѣ Ѳѳ Ѵѵ\n",
    "    oldstring = \"ІіѢѣѲѳѴѵ\"\n",
    "    newstring = \"ИиЕеФфИи\"\n",
    "    translationtable = str.maketrans(oldstring, newstring)\n",
    "    return inputtext.translate(translationtable)\n",
    "\n",
    "    \n",
    "def eja(inputtext):    \n",
    "    # jeja|ея|ЕЯ\n",
    "    eja = re.sub(r'\\bЕЯ\\b', 'ЕЕ', re.sub(r'\\bея\\b', 'ее', re.sub(r'\\bЕя\\b', 'Ее' ,inputtext)))\n",
    "    return eja\n",
    "    \n",
    "    \n",
    "def tverdyj(inputtext):\n",
    "    # Final tverdyj znak\n",
    "    tverdyj = re.sub(r'\\B[ъЪ]\\b', '', inputtext)\n",
    "    return tverdyj\n",
    "    \n",
    "\n",
    "def prefixZ(inputtext):\n",
    "    # prefixes before z\n",
    "    prefixZ = re.sub(r'\\b(БЕ|В|ВО|И|НИ|РА|РО|ЧЕРЕ|ЧРЕ)З([ПФТСКЦШЩЧ])', r'\\1с\\2', \\\n",
    "                            re.sub(r'\\b(Бе|В|Во|И|Ни|Ра|Ро|Чере|Чре)з([пфтскцшщч])', r'\\1с\\2' ,\\\n",
    "                            re.sub(r'\\b(бе|в|во|и|ни|ра|ро|чере|чре)з([пфтскцшщч])', r'\\1с\\2', inputtext)))\n",
    "    return prefixZ\n",
    "    \n",
    "def ago(inputtext):\n",
    "    exceptions = ('благо', 'всеблаго', 'наго', 'полунаго', 'преблаго')\n",
    "    if re.search(r'[яа]го\\b', inputtext) and inputtext not in exceptions:\n",
    "        return re.sub(r'[яа]го\\b', 'ого', inputtext)\n",
    "    else:\n",
    "        return inputtext\n",
    "        \n",
    "    \n",
    "\n",
    "def normalize(inputtext):\n",
    "    return ago(prefixZ(tverdyj(eja(replace_letters(re.sub(\"\\s+$\",\"\", inputtext))))))\n",
    "    \n",
    "    \n",
    "inputstring = \"всеблаго краснаго ІіѢѣѲѳѴѵ ея Ея бея цвѣтовъ безполезный, съ отраженіями звѣздъ въ спящей водѣ рѣки возсоденинение.\"\n",
    "\n",
    "\n",
    "def create_token(inputtext):\n",
    "    return {'t':inputtext, 'n':normalize(inputtext)}\n",
    "\n",
    "[create_token(token) for token in re.findall('\\w+\\s*|\\W+',inputstring)]"
   ]
  },
  {
   "cell_type": "markdown",
   "metadata": {},
   "source": [
    "### Resources:\n",
    "https://ru.wikisource.org/wiki/Раздѣлъ:_Дореформенная_орѳографія"
   ]
  },
  {
   "cell_type": "code",
   "execution_count": null,
   "metadata": {
    "collapsed": true
   },
   "outputs": [],
   "source": []
  }
 ],
 "metadata": {
  "anaconda-cloud": {},
  "kernelspec": {
   "display_name": "Python [conda root]",
   "language": "python",
   "name": "conda-root-py"
  },
  "language_info": {
   "codemirror_mode": {
    "name": "ipython",
    "version": 3
   },
   "file_extension": ".py",
   "mimetype": "text/x-python",
   "name": "python",
   "nbconvert_exporter": "python",
   "pygments_lexer": "ipython3",
   "version": "3.5.2"
  }
 },
 "nbformat": 4,
 "nbformat_minor": 1
}

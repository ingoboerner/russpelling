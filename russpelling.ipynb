{
 "cells": [
  {
   "cell_type": "markdown",
   "metadata": {},
   "source": [
    "# Normalization"
   ]
  },
  {
   "cell_type": "markdown",
   "metadata": {},
   "source": [
    "## Rules implemented:\n",
    "* Іі Ѣѣ Ѳѳ Ѵѵ --> Ии Ее Фф Ии\n",
    "* jeja\n",
    "* Final tverdyj znak\n",
    "* prefixes before z\n",
    "\n",
    "## todo\n",
    "\n",
    "\n",
    "* ago, jago\n",
    "* yja, ija\n",
    "* o after palatals\n",
    "* e oborotnoe before i\n",
    "\n",
    "## issues\n",
    "* not checking for stacked prefixes, assume prefix is at beginning of the word\n",
    "\n",
    "\n",
    "благой\n",
    "всеблагой\n",
    "нагой\n",
    "полунагой\n",
    "преблагой\n"
   ]
  },
  {
   "cell_type": "code",
   "execution_count": 31,
   "metadata": {
    "collapsed": false
   },
   "outputs": [
    {
     "name": "stdout",
     "output_type": "stream",
     "text": [
      "цветов, \n",
      "с, \n",
      "с \n",
      "отражениями \n",
      "звезд \n",
      "в \n",
      "спящей \n",
      "воде \n",
      "реки \n",
      "воссоденинение\n"
     ]
    },
    {
     "data": {
      "text/plain": [
       "[None, None, None, None, None, None, None, None, None, None]"
      ]
     },
     "execution_count": 31,
     "metadata": {},
     "output_type": "execute_result"
    }
   ],
   "source": [
    "import re\n",
    "\n",
    "def normalizeRus(inputtext):\n",
    "    # Replace Іі Ѣѣ Ѳѳ Ѵѵ\n",
    "    oldstring = \"ІіѢѣѲѳѴѵ\"\n",
    "    newstring = \"ИиЕеФфИи\"\n",
    "    translationtable = str.maketrans(oldstring, newstring)\n",
    "    \n",
    "    # jeja|ея|ЕЯ\n",
    "    eja = re.sub(r'\\bЕЯ\\b', 'ЕЕ', re.sub(r'\\bея\\b', 'ее', re.sub(r'\\bЕя\\b', 'Ее' ,inputtext)))\n",
    "    \n",
    "    # Final tverdyj znak\n",
    "    tverdyj = re.sub(r'\\B[ъЪ]\\b', '', eja)\n",
    "    \n",
    "    # prefixes before z\n",
    "    prefixZ = re.sub(r'\\b(БЕ|В|ВО|И|НИ|РА|РО|ЧЕРЕ|ЧРЕ)З([ПФТСКЦШЩЧ])', r'\\1с\\2', \\\n",
    "                            re.sub(r'\\b(Бе|В|Во|И|Ни|Ра|Ро|Чере|Чре)з([пфтскцшщч])', r'\\1с\\2' ,\\\n",
    "                            re.sub(r'\\b(бе|в|во|и|ни|ра|ро|чере|чре)з([пфтскцшщч])', r'\\1с\\2', tverdyj)))\n",
    "    \n",
    "    #* ago, jago\n",
    "    \n",
    "    return prefixZ.translate(translationtable)\n",
    "\n",
    "    \n",
    "    \n",
    "inputstring = \"цвѣтовъ, съ, съ отраженіями звѣздъ въ спящей водѣ рѣки возсоденинение\"\n",
    "\n",
    "\n",
    "\n",
    "[print(normalizeRus(token)) for token in re.findall('\\S+\\s*',inputstring)]"
   ]
  },
  {
   "cell_type": "code",
   "execution_count": null,
   "metadata": {
    "collapsed": true
   },
   "outputs": [],
   "source": []
  }
 ],
 "metadata": {
  "anaconda-cloud": {},
  "kernelspec": {
   "display_name": "Python [conda root]",
   "language": "python",
   "name": "conda-root-py"
  },
  "language_info": {
   "codemirror_mode": {
    "name": "ipython",
    "version": 3
   },
   "file_extension": ".py",
   "mimetype": "text/x-python",
   "name": "python",
   "nbconvert_exporter": "python",
   "pygments_lexer": "ipython3",
   "version": "3.5.2"
  }
 },
 "nbformat": 4,
 "nbformat_minor": 1
}

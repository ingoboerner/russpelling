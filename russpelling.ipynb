{
 "cells": [
  {
   "cell_type": "markdown",
   "metadata": {},
   "source": [
    "# Normalization"
   ]
  },
  {
   "cell_type": "markdown",
   "metadata": {},
   "source": [
    "## Rules implemented:\n",
    "* Іі Ѣѣ Ѳѳ Ѵѵ --> Ии Ее Фф Ии\n",
    "\n",
    "## todo\n",
    "* Final tverdyj znak\n",
    "* prefixes in z\n",
    "* ago, jago\n",
    "* yja, ija\n",
    "* jeja\n",
    "* o after palatals\n",
    "* e oborotnoe before i"
   ]
  },
  {
   "cell_type": "code",
   "execution_count": 3,
   "metadata": {
    "collapsed": false
   },
   "outputs": [
    {
     "name": "stdout",
     "output_type": "stream",
     "text": [
      "БЕЛАЯ АКАЦИЯ\n"
     ]
    }
   ],
   "source": [
    "import re\n",
    "\n",
    "def normalizeRus(inputtext):\n",
    "    # Replace Іі Ѣѣ Ѳѳ Ѵѵ\n",
    "    oldstring = \"ІіѢѣѲѳѴѵ\"\n",
    "    newstring = \"ИиЕеФфИи\"\n",
    "    translationtable = str.maketrans(oldstring, newstring)\n",
    "    \n",
    "    # jeja\n",
    "    re.sub(r'\\b([Ее])я\\b')\n",
    "    \n",
    "    \n",
    "    return inputtext.translate(translationtable)\n",
    "\n",
    "    \n",
    "    \n",
    "\n",
    "print(normalizeRus(\"БѢЛАЯ АКАЦІЯ\"))"
   ]
  },
  {
   "cell_type": "code",
   "execution_count": null,
   "metadata": {
    "collapsed": true
   },
   "outputs": [],
   "source": []
  }
 ],
 "metadata": {
  "anaconda-cloud": {},
  "kernelspec": {
   "display_name": "Python [conda root]",
   "language": "python",
   "name": "conda-root-py"
  },
  "language_info": {
   "codemirror_mode": {
    "name": "ipython",
    "version": 3
   },
   "file_extension": ".py",
   "mimetype": "text/x-python",
   "name": "python",
   "nbconvert_exporter": "python",
   "pygments_lexer": "ipython3",
   "version": "3.5.2"
  }
 },
 "nbformat": 4,
 "nbformat_minor": 1
}

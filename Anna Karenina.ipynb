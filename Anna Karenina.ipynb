{
 "cells": [
  {
   "cell_type": "code",
   "execution_count": 8,
   "metadata": {
    "collapsed": false
   },
   "outputs": [
    {
     "data": {
      "text/plain": [
       "{'n': 'Все счастливыя семьи похожи друг на друга, каждая несчастливая семья несчастлива по-своему.',\n",
       " 't': 'Всѣ счастливыя семьи похожи другъ на друга, каждая несчастливая семья несчастлива по-своему.'}"
      ]
     },
     "execution_count": 8,
     "metadata": {},
     "output_type": "execute_result"
    }
   ],
   "source": [
    "import russpelling\n",
    "test_string = \"Всѣ счастливыя семьи похожи другъ на друга, каждая несчастливая семья несчастлива по-своему.\"\n",
    "[russpelling.create_token(word) for word in re.findall()]"
   ]
  },
  {
   "cell_type": "code",
   "execution_count": null,
   "metadata": {
    "collapsed": true
   },
   "outputs": [],
   "source": []
  }
 ],
 "metadata": {
  "kernelspec": {
   "display_name": "Python [default]",
   "language": "python",
   "name": "python3"
  },
  "language_info": {
   "codemirror_mode": {
    "name": "ipython",
    "version": 3
   },
   "file_extension": ".py",
   "mimetype": "text/x-python",
   "name": "python",
   "nbconvert_exporter": "python",
   "pygments_lexer": "ipython3",
   "version": "3.5.2"
  }
 },
 "nbformat": 4,
 "nbformat_minor": 1
}

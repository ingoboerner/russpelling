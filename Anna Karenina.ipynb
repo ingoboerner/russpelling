{
 "cells": [
  {
   "cell_type": "code",
   "execution_count": 13,
   "metadata": {
    "collapsed": false
   },
   "outputs": [
    {
     "name": "stdout",
     "output_type": "stream",
     "text": [
      "The autoreload extension is already loaded. To reload it, use:\n",
      "  %reload_ext autoreload\n"
     ]
    },
    {
     "data": {
      "text/plain": [
       "[{'n': 'Все', 't': 'Всѣ '},\n",
       " {'n': 'счастливыя', 't': 'счастливыя '},\n",
       " {'n': 'семьи', 't': 'семьи '},\n",
       " {'n': 'похожи', 't': 'похожи '},\n",
       " {'n': 'друг', 't': 'другъ '},\n",
       " {'n': 'на', 't': 'на '},\n",
       " {'n': 'друга', 't': 'друга'},\n",
       " {'n': ',', 't': ', '},\n",
       " {'n': 'каждая', 't': 'каждая '},\n",
       " {'n': 'несчастливая', 't': 'несчастливая '},\n",
       " {'n': 'семья', 't': 'семья '},\n",
       " {'n': 'несчастлива', 't': 'несчастлива '},\n",
       " {'n': 'по', 't': 'по'},\n",
       " {'n': '-', 't': '-'},\n",
       " {'n': 'своему', 't': 'своему'},\n",
       " {'n': '.', 't': '.'}]"
      ]
     },
     "execution_count": 13,
     "metadata": {},
     "output_type": "execute_result"
    }
   ],
   "source": [
    "%load_ext autoreload\n",
    "%autoreload 2\n",
    "import re\n",
    "import russpelling\n",
    "test_string = \"Всѣ счастливыя семьи похожи другъ на друга, каждая несчастливая семья несчастлива по-своему.\"\n",
    "[russpelling.create_token(word) for word in re.findall('\\w+\\s*|\\W+',test_string)]"
   ]
  },
  {
   "cell_type": "code",
   "execution_count": null,
   "metadata": {
    "collapsed": true
   },
   "outputs": [],
   "source": []
  }
 ],
 "metadata": {
  "anaconda-cloud": {},
  "kernelspec": {
   "display_name": "Python [default]",
   "language": "python",
   "name": "python3"
  },
  "language_info": {
   "codemirror_mode": {
    "name": "ipython",
    "version": 3
   },
   "file_extension": ".py",
   "mimetype": "text/x-python",
   "name": "python",
   "nbconvert_exporter": "python",
   "pygments_lexer": "ipython3",
   "version": "3.5.2"
  }
 },
 "nbformat": 4,
 "nbformat_minor": 1
}
